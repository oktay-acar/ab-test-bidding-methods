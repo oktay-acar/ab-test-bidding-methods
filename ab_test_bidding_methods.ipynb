{
 "cells": [
  {
   "cell_type": "markdown",
   "metadata": {},
   "source": [
    "# Comparison of Conversion of Bidding Methods with A/B Test"
   ]
  },
  {
   "cell_type": "code",
   "execution_count": 1,
   "metadata": {},
   "outputs": [],
   "source": [
    "# Libraries\n",
    "import pandas as pd\n",
    "from scipy.stats import shapiro, levene, ttest_ind\n",
    "\n",
    "# Settings\n",
    "pd.set_option('display.max_columns', None)\n",
    "pd.set_option('display.max_rows', None)\n",
    "pd.set_option('display.width', 500)\n",
    "pd.set_option('display.float_format', lambda x: '%.3f' % x)"
   ]
  },
  {
   "attachments": {},
   "cell_type": "markdown",
   "metadata": {},
   "source": [
    "# Task 1: \n",
    "Preparing and Analyzing Data."
   ]
  },
  {
   "attachments": {},
   "cell_type": "markdown",
   "metadata": {},
   "source": [
    "Step 1: Read the dataset ab_testing_data.xlsx consisting of control and test group data. Assign control and test group data to separate variables."
   ]
  },
  {
   "cell_type": "code",
   "execution_count": 2,
   "metadata": {},
   "outputs": [],
   "source": [
    "df_control = pd.read_excel('ab_testing.xlsx', sheet_name='Control Group')\n",
    "df_test = pd.read_excel('ab_testing.xlsx', sheet_name='Test Group')"
   ]
  },
  {
   "attachments": {},
   "cell_type": "markdown",
   "metadata": {},
   "source": [
    "Step 2: Analyze control and test group data."
   ]
  },
  {
   "cell_type": "code",
   "execution_count": 3,
   "metadata": {},
   "outputs": [],
   "source": [
    "def check_df(dataframe, head=7, tail=7):\n",
    "    '''\n",
    "    Prints the general information about the given dataframe e.g. shape, head,\n",
    "    tail, info, descriptive statistics, etc.\n",
    "\n",
    "    Parameters\n",
    "    ----------\n",
    "    dataframe : DataFrame\n",
    "        The dataframe that we want to have general information about.\n",
    "    head: int\n",
    "        Prints the first n rows of the dataframe.\n",
    "    tail: int\n",
    "        Prints the last n rows of the dataframe.\n",
    "    '''\n",
    "    print('####### Shape #######')\n",
    "    print(dataframe.shape)\n",
    "    print('####### Info #######')\n",
    "    print(dataframe.info())\n",
    "    print('####### Head #######')\n",
    "    print(dataframe.head(head))\n",
    "    print('####### Tail #######')\n",
    "    print(dataframe.tail(tail))\n",
    "    print('####### Descriptive Statistics #######')\n",
    "    print(dataframe.describe([0.05, 0.25, 0.50, 0.75 ,0.95, 0.99]).T)\n",
    "    print('####### NA #######')\n",
    "    print(dataframe.isnull().sum())\n",
    "    print('####### Number of Unique Values #######')\n",
    "    print(dataframe.nunique())"
   ]
  },
  {
   "cell_type": "code",
   "execution_count": 4,
   "metadata": {},
   "outputs": [
    {
     "name": "stdout",
     "output_type": "stream",
     "text": [
      "####### Shape #######\n",
      "(40, 4)\n",
      "####### Info #######\n",
      "<class 'pandas.core.frame.DataFrame'>\n",
      "RangeIndex: 40 entries, 0 to 39\n",
      "Data columns (total 4 columns):\n",
      " #   Column      Non-Null Count  Dtype  \n",
      "---  ------      --------------  -----  \n",
      " 0   Impression  40 non-null     float64\n",
      " 1   Click       40 non-null     float64\n",
      " 2   Purchase    40 non-null     float64\n",
      " 3   Earning     40 non-null     float64\n",
      "dtypes: float64(4)\n",
      "memory usage: 1.4 KB\n",
      "None\n",
      "####### Head #######\n",
      "   Impression    Click  Purchase  Earning\n",
      "0   82529.459 6090.077   665.211 2311.277\n",
      "1   98050.452 3382.862   315.085 1742.807\n",
      "2   82696.024 4167.966   458.084 1797.827\n",
      "3  109914.400 4910.882   487.091 1696.229\n",
      "4  108457.763 5987.656   441.034 1543.720\n",
      "5   77773.634 4462.207   519.670 2081.852\n",
      "6   95110.586 3555.581   512.929 1815.007\n",
      "####### Tail #######\n",
      "    Impression    Click  Purchase  Earning\n",
      "33   94225.521 5255.639   619.867 2090.361\n",
      "34   94138.628 6994.184   593.026 1571.871\n",
      "35  132064.219 3747.158   551.072 2256.976\n",
      "36   86409.942 4608.256   345.046 1781.358\n",
      "37  123678.934 3649.074   476.168 2187.721\n",
      "38  101997.494 4736.353   474.614 2254.564\n",
      "39  121085.881 4285.179   590.406 1289.309\n",
      "####### Descriptive Statistics #######\n",
      "            count       mean       std       min        5%       25%       50%        75%        95%        99%        max\n",
      "Impression 40.000 101711.449 20302.158 45475.943 79412.018 85726.690 99790.701 115212.817 132950.532 143105.791 147539.336\n",
      "Click      40.000   5100.657  1329.985  2189.753  3367.484  4124.304  5001.221   5923.804   7374.361   7761.795   7959.125\n",
      "Purchase   40.000    550.894   134.108   267.029   328.662   470.096   531.206    637.957    748.271    790.188    801.795\n",
      "Earning    40.000   1908.568   302.918  1253.990  1329.577  1685.847  1975.161   2119.803   2318.528   2481.309   2497.295\n",
      "####### NA #######\n",
      "Impression    0\n",
      "Click         0\n",
      "Purchase      0\n",
      "Earning       0\n",
      "dtype: int64\n",
      "####### Number of Unique Values #######\n",
      "Impression    40\n",
      "Click         40\n",
      "Purchase      40\n",
      "Earning       40\n",
      "dtype: int64\n"
     ]
    }
   ],
   "source": [
    "check_df(df_control)"
   ]
  },
  {
   "cell_type": "code",
   "execution_count": 5,
   "metadata": {},
   "outputs": [
    {
     "name": "stdout",
     "output_type": "stream",
     "text": [
      "####### Shape #######\n",
      "(40, 4)\n",
      "####### Info #######\n",
      "<class 'pandas.core.frame.DataFrame'>\n",
      "RangeIndex: 40 entries, 0 to 39\n",
      "Data columns (total 4 columns):\n",
      " #   Column      Non-Null Count  Dtype  \n",
      "---  ------      --------------  -----  \n",
      " 0   Impression  40 non-null     float64\n",
      " 1   Click       40 non-null     float64\n",
      " 2   Purchase    40 non-null     float64\n",
      " 3   Earning     40 non-null     float64\n",
      "dtypes: float64(4)\n",
      "memory usage: 1.4 KB\n",
      "None\n",
      "####### Head #######\n",
      "   Impression    Click  Purchase  Earning\n",
      "0  120103.504 3216.548   702.160 1939.611\n",
      "1  134775.943 3635.082   834.054 2929.406\n",
      "2  107806.621 3057.144   422.934 2526.245\n",
      "3  116445.276 4650.474   429.034 2281.429\n",
      "4  145082.517 5201.388   749.860 2781.698\n",
      "5  115923.007 4213.869   778.373 2157.409\n",
      "6  106116.437 3279.473   491.615 2560.411\n",
      "####### Tail #######\n",
      "    Impression    Click  Purchase  Earning\n",
      "33  140219.552 5232.712   524.908 2778.842\n",
      "34  137231.175 3991.677   311.630 2551.243\n",
      "35   79234.912 6002.214   382.047 2277.864\n",
      "36  130702.239 3626.320   449.825 2530.841\n",
      "37  116481.873 4702.782   472.454 2597.918\n",
      "38   79033.835 4495.428   425.359 2595.858\n",
      "39  102257.454 4800.068   521.311 2967.518\n",
      "####### Descriptive Statistics #######\n",
      "            count       mean       std       min        5%        25%        50%        75%        95%        99%        max\n",
      "Impression 40.000 120512.412 18807.449 79033.835 83150.504 112691.971 119291.301 132050.579 153178.691 158245.264 158605.920\n",
      "Click      40.000   3967.550   923.095  1836.630  2600.361   3376.819   3931.360   4660.498   5271.187   6012.877   6019.695\n",
      "Purchase   40.000    582.106   161.153   311.630   356.695    444.627    551.356    699.862    854.209    876.576    889.910\n",
      "Earning    40.000   2514.891   282.731  1939.611  2080.976   2280.537   2544.666   2761.545   2931.311   3091.941   3171.490\n",
      "####### NA #######\n",
      "Impression    0\n",
      "Click         0\n",
      "Purchase      0\n",
      "Earning       0\n",
      "dtype: int64\n",
      "####### Number of Unique Values #######\n",
      "Impression    40\n",
      "Click         40\n",
      "Purchase      40\n",
      "Earning       40\n",
      "dtype: int64\n"
     ]
    }
   ],
   "source": [
    "check_df(df_test)"
   ]
  },
  {
   "attachments": {},
   "cell_type": "markdown",
   "metadata": {},
   "source": [
    "Step 3: After the analysis process, combine the control and test group data using the concat() method."
   ]
  },
  {
   "cell_type": "code",
   "execution_count": 6,
   "metadata": {},
   "outputs": [
    {
     "data": {
      "text/html": [
       "<div>\n",
       "<style scoped>\n",
       "    .dataframe tbody tr th:only-of-type {\n",
       "        vertical-align: middle;\n",
       "    }\n",
       "\n",
       "    .dataframe tbody tr th {\n",
       "        vertical-align: top;\n",
       "    }\n",
       "\n",
       "    .dataframe thead th {\n",
       "        text-align: right;\n",
       "    }\n",
       "</style>\n",
       "<table border=\"1\" class=\"dataframe\">\n",
       "  <thead>\n",
       "    <tr style=\"text-align: right;\">\n",
       "      <th></th>\n",
       "      <th>Impression</th>\n",
       "      <th>Click</th>\n",
       "      <th>Purchase</th>\n",
       "      <th>Earning</th>\n",
       "      <th>group</th>\n",
       "    </tr>\n",
       "  </thead>\n",
       "  <tbody>\n",
       "    <tr>\n",
       "      <th>0</th>\n",
       "      <td>82529.459</td>\n",
       "      <td>6090.077</td>\n",
       "      <td>665.211</td>\n",
       "      <td>2311.277</td>\n",
       "      <td>control</td>\n",
       "    </tr>\n",
       "    <tr>\n",
       "      <th>1</th>\n",
       "      <td>98050.452</td>\n",
       "      <td>3382.862</td>\n",
       "      <td>315.085</td>\n",
       "      <td>1742.807</td>\n",
       "      <td>control</td>\n",
       "    </tr>\n",
       "    <tr>\n",
       "      <th>2</th>\n",
       "      <td>82696.024</td>\n",
       "      <td>4167.966</td>\n",
       "      <td>458.084</td>\n",
       "      <td>1797.827</td>\n",
       "      <td>control</td>\n",
       "    </tr>\n",
       "    <tr>\n",
       "      <th>3</th>\n",
       "      <td>109914.400</td>\n",
       "      <td>4910.882</td>\n",
       "      <td>487.091</td>\n",
       "      <td>1696.229</td>\n",
       "      <td>control</td>\n",
       "    </tr>\n",
       "    <tr>\n",
       "      <th>4</th>\n",
       "      <td>108457.763</td>\n",
       "      <td>5987.656</td>\n",
       "      <td>441.034</td>\n",
       "      <td>1543.720</td>\n",
       "      <td>control</td>\n",
       "    </tr>\n",
       "  </tbody>\n",
       "</table>\n",
       "</div>"
      ],
      "text/plain": [
       "   Impression    Click  Purchase  Earning    group\n",
       "0   82529.459 6090.077   665.211 2311.277  control\n",
       "1   98050.452 3382.862   315.085 1742.807  control\n",
       "2   82696.024 4167.966   458.084 1797.827  control\n",
       "3  109914.400 4910.882   487.091 1696.229  control\n",
       "4  108457.763 5987.656   441.034 1543.720  control"
      ]
     },
     "execution_count": 6,
     "metadata": {},
     "output_type": "execute_result"
    }
   ],
   "source": [
    "df_control['group'] = 'control'\n",
    "df_test['group'] = 'test'\n",
    "df = pd.concat([df_control, df_test], axis=0, ignore_index=True)\n",
    "df.head()"
   ]
  },
  {
   "cell_type": "code",
   "execution_count": 7,
   "metadata": {},
   "outputs": [
    {
     "data": {
      "text/html": [
       "<div>\n",
       "<style scoped>\n",
       "    .dataframe tbody tr th:only-of-type {\n",
       "        vertical-align: middle;\n",
       "    }\n",
       "\n",
       "    .dataframe tbody tr th {\n",
       "        vertical-align: top;\n",
       "    }\n",
       "\n",
       "    .dataframe thead th {\n",
       "        text-align: right;\n",
       "    }\n",
       "</style>\n",
       "<table border=\"1\" class=\"dataframe\">\n",
       "  <thead>\n",
       "    <tr style=\"text-align: right;\">\n",
       "      <th></th>\n",
       "      <th>Impression</th>\n",
       "      <th>Click</th>\n",
       "      <th>Purchase</th>\n",
       "      <th>Earning</th>\n",
       "      <th>group</th>\n",
       "    </tr>\n",
       "  </thead>\n",
       "  <tbody>\n",
       "    <tr>\n",
       "      <th>35</th>\n",
       "      <td>132064.219</td>\n",
       "      <td>3747.158</td>\n",
       "      <td>551.072</td>\n",
       "      <td>2256.976</td>\n",
       "      <td>control</td>\n",
       "    </tr>\n",
       "    <tr>\n",
       "      <th>36</th>\n",
       "      <td>86409.942</td>\n",
       "      <td>4608.256</td>\n",
       "      <td>345.046</td>\n",
       "      <td>1781.358</td>\n",
       "      <td>control</td>\n",
       "    </tr>\n",
       "    <tr>\n",
       "      <th>37</th>\n",
       "      <td>123678.934</td>\n",
       "      <td>3649.074</td>\n",
       "      <td>476.168</td>\n",
       "      <td>2187.721</td>\n",
       "      <td>control</td>\n",
       "    </tr>\n",
       "    <tr>\n",
       "      <th>38</th>\n",
       "      <td>101997.494</td>\n",
       "      <td>4736.353</td>\n",
       "      <td>474.614</td>\n",
       "      <td>2254.564</td>\n",
       "      <td>control</td>\n",
       "    </tr>\n",
       "    <tr>\n",
       "      <th>39</th>\n",
       "      <td>121085.881</td>\n",
       "      <td>4285.179</td>\n",
       "      <td>590.406</td>\n",
       "      <td>1289.309</td>\n",
       "      <td>control</td>\n",
       "    </tr>\n",
       "    <tr>\n",
       "      <th>40</th>\n",
       "      <td>120103.504</td>\n",
       "      <td>3216.548</td>\n",
       "      <td>702.160</td>\n",
       "      <td>1939.611</td>\n",
       "      <td>test</td>\n",
       "    </tr>\n",
       "    <tr>\n",
       "      <th>41</th>\n",
       "      <td>134775.943</td>\n",
       "      <td>3635.082</td>\n",
       "      <td>834.054</td>\n",
       "      <td>2929.406</td>\n",
       "      <td>test</td>\n",
       "    </tr>\n",
       "    <tr>\n",
       "      <th>42</th>\n",
       "      <td>107806.621</td>\n",
       "      <td>3057.144</td>\n",
       "      <td>422.934</td>\n",
       "      <td>2526.245</td>\n",
       "      <td>test</td>\n",
       "    </tr>\n",
       "    <tr>\n",
       "      <th>43</th>\n",
       "      <td>116445.276</td>\n",
       "      <td>4650.474</td>\n",
       "      <td>429.034</td>\n",
       "      <td>2281.429</td>\n",
       "      <td>test</td>\n",
       "    </tr>\n",
       "    <tr>\n",
       "      <th>44</th>\n",
       "      <td>145082.517</td>\n",
       "      <td>5201.388</td>\n",
       "      <td>749.860</td>\n",
       "      <td>2781.698</td>\n",
       "      <td>test</td>\n",
       "    </tr>\n",
       "  </tbody>\n",
       "</table>\n",
       "</div>"
      ],
      "text/plain": [
       "    Impression    Click  Purchase  Earning    group\n",
       "35  132064.219 3747.158   551.072 2256.976  control\n",
       "36   86409.942 4608.256   345.046 1781.358  control\n",
       "37  123678.934 3649.074   476.168 2187.721  control\n",
       "38  101997.494 4736.353   474.614 2254.564  control\n",
       "39  121085.881 4285.179   590.406 1289.309  control\n",
       "40  120103.504 3216.548   702.160 1939.611     test\n",
       "41  134775.943 3635.082   834.054 2929.406     test\n",
       "42  107806.621 3057.144   422.934 2526.245     test\n",
       "43  116445.276 4650.474   429.034 2281.429     test\n",
       "44  145082.517 5201.388   749.860 2781.698     test"
      ]
     },
     "execution_count": 7,
     "metadata": {},
     "output_type": "execute_result"
    }
   ],
   "source": [
    "df.iloc[35:45]"
   ]
  },
  {
   "attachments": {},
   "cell_type": "markdown",
   "metadata": {},
   "source": [
    "# Task 2: \n",
    "Defining the Hypothesis of A/B Testing."
   ]
  },
  {
   "attachments": {},
   "cell_type": "markdown",
   "metadata": {},
   "source": [
    "Step 1: Define the hypothesis."
   ]
  },
  {
   "cell_type": "code",
   "execution_count": 8,
   "metadata": {},
   "outputs": [],
   "source": [
    "# H0 : M1 = M2 (There is no statistically significant difference between the purchasing averages of the control and test groups)\n",
    "# H1 : M1!= M2 (There is a statistically significant difference between the purchasing averages of the control and test groups)"
   ]
  },
  {
   "attachments": {},
   "cell_type": "markdown",
   "metadata": {},
   "source": [
    "Step 2: Analyze the purchase (gain) averages for the control and test group."
   ]
  },
  {
   "cell_type": "code",
   "execution_count": 9,
   "metadata": {},
   "outputs": [
    {
     "data": {
      "text/html": [
       "<div>\n",
       "<style scoped>\n",
       "    .dataframe tbody tr th:only-of-type {\n",
       "        vertical-align: middle;\n",
       "    }\n",
       "\n",
       "    .dataframe tbody tr th {\n",
       "        vertical-align: top;\n",
       "    }\n",
       "\n",
       "    .dataframe thead th {\n",
       "        text-align: right;\n",
       "    }\n",
       "</style>\n",
       "<table border=\"1\" class=\"dataframe\">\n",
       "  <thead>\n",
       "    <tr style=\"text-align: right;\">\n",
       "      <th></th>\n",
       "      <th>Purchase</th>\n",
       "    </tr>\n",
       "    <tr>\n",
       "      <th>group</th>\n",
       "      <th></th>\n",
       "    </tr>\n",
       "  </thead>\n",
       "  <tbody>\n",
       "    <tr>\n",
       "      <th>control</th>\n",
       "      <td>550.894</td>\n",
       "    </tr>\n",
       "    <tr>\n",
       "      <th>test</th>\n",
       "      <td>582.106</td>\n",
       "    </tr>\n",
       "  </tbody>\n",
       "</table>\n",
       "</div>"
      ],
      "text/plain": [
       "         Purchase\n",
       "group            \n",
       "control   550.894\n",
       "test      582.106"
      ]
     },
     "execution_count": 9,
     "metadata": {},
     "output_type": "execute_result"
    }
   ],
   "source": [
    "df.groupby('group').agg({'Purchase': 'mean'})"
   ]
  },
  {
   "attachments": {},
   "cell_type": "markdown",
   "metadata": {},
   "source": [
    "# Task 3: \n",
    "Performing Hypothesis Testing."
   ]
  },
  {
   "attachments": {},
   "cell_type": "markdown",
   "metadata": {},
   "source": [
    "Step 1: Check the assumptions before testing the hypothesis. These are Assumption of Normality and Homogeneity of Variance.\n",
    "Test separately whether the control and test groups comply with the normality assumption via the 'Purchase' variable."
   ]
  },
  {
   "attachments": {},
   "cell_type": "markdown",
   "metadata": {},
   "source": [
    "**Normality Assumption:**\n",
    "- H0: Normal distribution assumption is provided\n",
    "- H1: Normal distribution assumption not provided\n",
    "- p < 0.05 H0 REJECT\n",
    "- p > 0.05 H0 CANNOT BE REJECTED\n",
    "\n",
    "Is the assumption of normality according to the test result provided for the control and test groups?\n",
    "\n",
    "Interpret the p-values ​​obtained."
   ]
  },
  {
   "cell_type": "code",
   "execution_count": 10,
   "metadata": {},
   "outputs": [
    {
     "name": "stdout",
     "output_type": "stream",
     "text": [
      "Test Stat = 0.9773, p-value = 0.5891\n"
     ]
    }
   ],
   "source": [
    "# Normallity check for control group\n",
    "test_stat, pvalue = shapiro(df.loc[df['group'] == 'control', 'Purchase'])\n",
    "print('Test Stat = %.4f, p-value = %.4f' % (test_stat, pvalue))"
   ]
  },
  {
   "cell_type": "code",
   "execution_count": 11,
   "metadata": {},
   "outputs": [
    {
     "name": "stdout",
     "output_type": "stream",
     "text": [
      "Test Stat = 0.9589, p-value = 0.1541\n"
     ]
    }
   ],
   "source": [
    "# Normallity check for test group\n",
    "test_stat, pvalue = shapiro(df.loc[df['group'] == 'test', 'Purchase'])\n",
    "print('Test Stat = %.4f, p-value = %.4f' % (test_stat, pvalue))"
   ]
  },
  {
   "cell_type": "code",
   "execution_count": 12,
   "metadata": {},
   "outputs": [],
   "source": [
    "# Control Group:\n",
    "# p-value = 0.5891 > 0.05 H0 cannot be rejected.\n",
    "\n",
    "# Test Group:\n",
    "# p-value = 0.1541 > 0.05 H0 cannot be rejected.\n",
    "\n",
    "# The values ​​of the control and test groups provide the assumption of normality."
   ]
  },
  {
   "attachments": {},
   "cell_type": "markdown",
   "metadata": {},
   "source": [
    "**Variance Homogeneity:**\n",
    "- H0: Variances are homogeneous\n",
    "- H1: Variances are not homogeneous\n",
    "- p < 0.05 H0 REJECT\n",
    "- p > 0.05 H0 CANNOT BE REJECTED\n",
    "\n",
    "Test whether the homogeneity of variance is provided for the control and test groups over the 'Purchase' variable.\n",
    "\n",
    "Is the assumption of normality provided according to the test result? Interpret the p-values ​​obtained."
   ]
  },
  {
   "cell_type": "code",
   "execution_count": 13,
   "metadata": {},
   "outputs": [
    {
     "name": "stdout",
     "output_type": "stream",
     "text": [
      "Test Stat = 2.6393, p-value = 0.1083\n"
     ]
    }
   ],
   "source": [
    "test_stat, pvalue = levene(df.loc[df['group'] == 'control', 'Purchase'],\n",
    "                           df.loc[df['group'] == 'test', 'Purchase'])\n",
    "print('Test Stat = %.4f, p-value = %.4f' % (test_stat, pvalue))\n",
    "\n",
    "# p = 0.1083 > 0.05 H0 cannot be rejected. \n",
    "# The values ​​of the control and test groups provide the assumption of variance homogeneity."
   ]
  },
  {
   "attachments": {},
   "cell_type": "markdown",
   "metadata": {},
   "source": [
    "Step 2: Select the appropriate test according to the Normality Assumption and Variance Homogeneity results."
   ]
  },
  {
   "cell_type": "code",
   "execution_count": 14,
   "metadata": {},
   "outputs": [
    {
     "name": "stdout",
     "output_type": "stream",
     "text": [
      "Test Stat = -0.9416, p-value = 0.3493\n"
     ]
    }
   ],
   "source": [
    "# Assumptions are provided. Independent two-sample t-test is performed. \n",
    "test_stat, pvalue = ttest_ind(df.loc[df['group'] == 'control', 'Purchase'],\n",
    "                              df.loc[df['group'] == 'test', 'Purchase'],\n",
    "                              equal_var=True)\n",
    "\n",
    "print('Test Stat = %.4f, p-value = %.4f' % (test_stat, pvalue))"
   ]
  },
  {
   "attachments": {},
   "cell_type": "markdown",
   "metadata": {},
   "source": [
    "Step 3: Considering the p_value obtained as a result of the test, interpret whether there is a statistically significant difference between the purchasing averages of the control and test group."
   ]
  },
  {
   "cell_type": "code",
   "execution_count": 15,
   "metadata": {},
   "outputs": [],
   "source": [
    "# p = 0.3493 > 0.05 H0 cannot be rejected. \n",
    "# H0 : M1 = M2\n",
    "# There is no statistically significant difference between the purchasing averages of the control and test groups."
   ]
  },
  {
   "attachments": {},
   "cell_type": "markdown",
   "metadata": {},
   "source": [
    "# Task 4:\n",
    "Analysis of Results."
   ]
  },
  {
   "attachments": {},
   "cell_type": "markdown",
   "metadata": {},
   "source": [
    "Step 1: Which test did you use, state the reasons. "
   ]
  },
  {
   "cell_type": "code",
   "execution_count": 16,
   "metadata": {},
   "outputs": [],
   "source": [
    "# After reaching the conclusion that the two groups conformed to the normality assumption with the Shapiro test, I reached the conclusion that the variance homogeneity in the two groups was matched with the Levene test.\n",
    "# Since homogeneity of variance was ensured with the assumption of normality, I concluded that there was no statistically significant difference between the two groups with the independent two-sample t-test, which is one of the parametric tests."
   ]
  },
  {
   "attachments": {},
   "cell_type": "markdown",
   "metadata": {},
   "source": [
    "Step 2: Advise the customer according to the test results you have obtained."
   ]
  },
  {
   "cell_type": "code",
   "execution_count": 17,
   "metadata": {},
   "outputs": [],
   "source": [
    "# The results show that the average earnings emerged by chance and there is no statistically significant difference."
   ]
  }
 ],
 "metadata": {
  "kernelspec": {
   "display_name": "base",
   "language": "python",
   "name": "python3"
  },
  "language_info": {
   "codemirror_mode": {
    "name": "ipython",
    "version": 3
   },
   "file_extension": ".py",
   "mimetype": "text/x-python",
   "name": "python",
   "nbconvert_exporter": "python",
   "pygments_lexer": "ipython3",
   "version": "3.10.13"
  },
  "orig_nbformat": 4
 },
 "nbformat": 4,
 "nbformat_minor": 2
}
